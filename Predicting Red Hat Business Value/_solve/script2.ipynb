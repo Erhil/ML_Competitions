{
 "cells": [
  {
   "cell_type": "markdown",
   "metadata": {},
   "source": [
    "## Preprocessing/Merging People and Activities\n",
    "\n",
    "This script converts features in people and activities into integers, then merges everything into a single table. Makes it easy to drop into classifiers in Sklearn or XGBoost. \n",
    "\n",
    "Conveniently, most of the data can be easily encoded to numeric values with simple string splitting. \n",
    "\n",
    "Scored ~0.944 with Random Forest Classifier in Sklearn out of the box. \n",
    "\n"
   ]
  },
  {
   "cell_type": "code",
   "execution_count": 42,
   "metadata": {
    "collapsed": false
   },
   "outputs": [],
   "source": [
    "import numpy as np\n",
    "import pandas as pd\n",
    "\n",
    "act_train = pd.read_csv('act_train.csv')\n",
    "act_test = pd.read_csv('act_test.csv')\n",
    "people = pd.read_csv('people.csv')"
   ]
  },
  {
   "cell_type": "code",
   "execution_count": 2,
   "metadata": {
    "collapsed": false
   },
   "outputs": [],
   "source": [
    "# Save the test IDs for Kaggle submission\n",
    "test_ids = act_test['activity_id']\n",
    "train_ids = act_train[\"activity_id\"]\n",
    "\n",
    "def preprocess_acts(data, train_set=True):\n",
    "    \n",
    "    # Getting rid of data feature for now\n",
    "    data = data.drop(['date', 'activity_id'], axis=1)\n",
    "    if(train_set):\n",
    "        data = data.drop(['outcome'], axis=1)\n",
    "    \n",
    "    ## Split off _ from people_id\n",
    "    data['people_id'] = data['people_id'].apply(lambda x: x.split('_')[1])\n",
    "    data['people_id'] = pd.to_numeric(data['people_id']).astype(int)\n",
    "    \n",
    "    columns = list(data.columns)\n",
    "    \n",
    "    # Convert strings to ints\n",
    "    for col in columns[1:]:\n",
    "        data[col] = data[col].fillna('type 0')\n",
    "        data[col] = data[col].apply(lambda x: x.split(' ')[1])\n",
    "        data[col] = pd.to_numeric(data[col]).astype(int)\n",
    "    return data\n",
    "\n",
    "def preprocess_people(data):\n",
    "    \n",
    "    # TODO refactor this duplication\n",
    "    data = data.drop(['date'], axis=1)\n",
    "    data['people_id'] = data['people_id'].apply(lambda x: x.split('_')[1])\n",
    "    data['people_id'] = pd.to_numeric(data['people_id']).astype(int)\n",
    "    \n",
    "    #  Values in the people df is Booleans and Strings    \n",
    "    columns = list(data.columns)\n",
    "    bools = columns[11:]\n",
    "    strings = columns[1:11]\n",
    "    \n",
    "    for col in bools:\n",
    "        data[col] = pd.to_numeric(data[col]).astype(int)        \n",
    "    for col in strings:\n",
    "        data[col] = data[col].fillna('type 0')\n",
    "        data[col] = data[col].apply(lambda x: x.split(' ')[1])\n",
    "        data[col] = pd.to_numeric(data[col]).astype(int)\n",
    "    return data"
   ]
  },
  {
   "cell_type": "code",
   "execution_count": 3,
   "metadata": {
    "collapsed": false
   },
   "outputs": [],
   "source": [
    "# Preprocess each df\n",
    "peeps = preprocess_people(people)\n",
    "actions_train = preprocess_acts(act_train)\n",
    "actions_test = preprocess_acts(act_test, train_set=False)"
   ]
  },
  {
   "cell_type": "code",
   "execution_count": 4,
   "metadata": {
    "collapsed": false
   },
   "outputs": [
    {
     "data": {
      "text/html": [
       "<div>\n",
       "<table border=\"1\" class=\"dataframe\">\n",
       "  <thead>\n",
       "    <tr style=\"text-align: right;\">\n",
       "      <th></th>\n",
       "      <th>people_id</th>\n",
       "      <th>activity_category</th>\n",
       "      <th>char_1_x</th>\n",
       "      <th>char_2_x</th>\n",
       "      <th>char_3_x</th>\n",
       "      <th>char_4_x</th>\n",
       "      <th>char_5_x</th>\n",
       "      <th>char_6_x</th>\n",
       "      <th>char_7_x</th>\n",
       "      <th>char_8_x</th>\n",
       "      <th>...</th>\n",
       "      <th>char_29</th>\n",
       "      <th>char_30</th>\n",
       "      <th>char_31</th>\n",
       "      <th>char_32</th>\n",
       "      <th>char_33</th>\n",
       "      <th>char_34</th>\n",
       "      <th>char_35</th>\n",
       "      <th>char_36</th>\n",
       "      <th>char_37</th>\n",
       "      <th>char_38</th>\n",
       "    </tr>\n",
       "  </thead>\n",
       "  <tbody>\n",
       "    <tr>\n",
       "      <th>908953</th>\n",
       "      <td>25410</td>\n",
       "      <td>3</td>\n",
       "      <td>0</td>\n",
       "      <td>0</td>\n",
       "      <td>0</td>\n",
       "      <td>0</td>\n",
       "      <td>0</td>\n",
       "      <td>0</td>\n",
       "      <td>0</td>\n",
       "      <td>0</td>\n",
       "      <td>...</td>\n",
       "      <td>0</td>\n",
       "      <td>0</td>\n",
       "      <td>0</td>\n",
       "      <td>0</td>\n",
       "      <td>0</td>\n",
       "      <td>0</td>\n",
       "      <td>0</td>\n",
       "      <td>0</td>\n",
       "      <td>0</td>\n",
       "      <td>81</td>\n",
       "    </tr>\n",
       "    <tr>\n",
       "      <th>353566</th>\n",
       "      <td>155317</td>\n",
       "      <td>5</td>\n",
       "      <td>0</td>\n",
       "      <td>0</td>\n",
       "      <td>0</td>\n",
       "      <td>0</td>\n",
       "      <td>0</td>\n",
       "      <td>0</td>\n",
       "      <td>0</td>\n",
       "      <td>0</td>\n",
       "      <td>...</td>\n",
       "      <td>1</td>\n",
       "      <td>1</td>\n",
       "      <td>1</td>\n",
       "      <td>1</td>\n",
       "      <td>1</td>\n",
       "      <td>1</td>\n",
       "      <td>1</td>\n",
       "      <td>1</td>\n",
       "      <td>1</td>\n",
       "      <td>18</td>\n",
       "    </tr>\n",
       "    <tr>\n",
       "      <th>266540</th>\n",
       "      <td>139847</td>\n",
       "      <td>1</td>\n",
       "      <td>7</td>\n",
       "      <td>1</td>\n",
       "      <td>4</td>\n",
       "      <td>1</td>\n",
       "      <td>6</td>\n",
       "      <td>2</td>\n",
       "      <td>2</td>\n",
       "      <td>8</td>\n",
       "      <td>...</td>\n",
       "      <td>0</td>\n",
       "      <td>0</td>\n",
       "      <td>0</td>\n",
       "      <td>0</td>\n",
       "      <td>0</td>\n",
       "      <td>0</td>\n",
       "      <td>0</td>\n",
       "      <td>0</td>\n",
       "      <td>0</td>\n",
       "      <td>0</td>\n",
       "    </tr>\n",
       "    <tr>\n",
       "      <th>1393739</th>\n",
       "      <td>330527</td>\n",
       "      <td>2</td>\n",
       "      <td>0</td>\n",
       "      <td>0</td>\n",
       "      <td>0</td>\n",
       "      <td>0</td>\n",
       "      <td>0</td>\n",
       "      <td>0</td>\n",
       "      <td>0</td>\n",
       "      <td>0</td>\n",
       "      <td>...</td>\n",
       "      <td>0</td>\n",
       "      <td>0</td>\n",
       "      <td>0</td>\n",
       "      <td>0</td>\n",
       "      <td>0</td>\n",
       "      <td>0</td>\n",
       "      <td>0</td>\n",
       "      <td>0</td>\n",
       "      <td>0</td>\n",
       "      <td>0</td>\n",
       "    </tr>\n",
       "    <tr>\n",
       "      <th>1033662</th>\n",
       "      <td>275084</td>\n",
       "      <td>4</td>\n",
       "      <td>0</td>\n",
       "      <td>0</td>\n",
       "      <td>0</td>\n",
       "      <td>0</td>\n",
       "      <td>0</td>\n",
       "      <td>0</td>\n",
       "      <td>0</td>\n",
       "      <td>0</td>\n",
       "      <td>...</td>\n",
       "      <td>0</td>\n",
       "      <td>0</td>\n",
       "      <td>0</td>\n",
       "      <td>0</td>\n",
       "      <td>0</td>\n",
       "      <td>0</td>\n",
       "      <td>0</td>\n",
       "      <td>1</td>\n",
       "      <td>0</td>\n",
       "      <td>69</td>\n",
       "    </tr>\n",
       "    <tr>\n",
       "      <th>984127</th>\n",
       "      <td>266596</td>\n",
       "      <td>5</td>\n",
       "      <td>0</td>\n",
       "      <td>0</td>\n",
       "      <td>0</td>\n",
       "      <td>0</td>\n",
       "      <td>0</td>\n",
       "      <td>0</td>\n",
       "      <td>0</td>\n",
       "      <td>0</td>\n",
       "      <td>...</td>\n",
       "      <td>0</td>\n",
       "      <td>0</td>\n",
       "      <td>0</td>\n",
       "      <td>0</td>\n",
       "      <td>0</td>\n",
       "      <td>0</td>\n",
       "      <td>0</td>\n",
       "      <td>0</td>\n",
       "      <td>0</td>\n",
       "      <td>62</td>\n",
       "    </tr>\n",
       "    <tr>\n",
       "      <th>1788668</th>\n",
       "      <td>389974</td>\n",
       "      <td>4</td>\n",
       "      <td>0</td>\n",
       "      <td>0</td>\n",
       "      <td>0</td>\n",
       "      <td>0</td>\n",
       "      <td>0</td>\n",
       "      <td>0</td>\n",
       "      <td>0</td>\n",
       "      <td>0</td>\n",
       "      <td>...</td>\n",
       "      <td>0</td>\n",
       "      <td>0</td>\n",
       "      <td>0</td>\n",
       "      <td>0</td>\n",
       "      <td>0</td>\n",
       "      <td>0</td>\n",
       "      <td>0</td>\n",
       "      <td>1</td>\n",
       "      <td>0</td>\n",
       "      <td>7</td>\n",
       "    </tr>\n",
       "    <tr>\n",
       "      <th>493258</th>\n",
       "      <td>181073</td>\n",
       "      <td>3</td>\n",
       "      <td>0</td>\n",
       "      <td>0</td>\n",
       "      <td>0</td>\n",
       "      <td>0</td>\n",
       "      <td>0</td>\n",
       "      <td>0</td>\n",
       "      <td>0</td>\n",
       "      <td>0</td>\n",
       "      <td>...</td>\n",
       "      <td>0</td>\n",
       "      <td>1</td>\n",
       "      <td>1</td>\n",
       "      <td>0</td>\n",
       "      <td>1</td>\n",
       "      <td>1</td>\n",
       "      <td>1</td>\n",
       "      <td>1</td>\n",
       "      <td>1</td>\n",
       "      <td>64</td>\n",
       "    </tr>\n",
       "    <tr>\n",
       "      <th>1232777</th>\n",
       "      <td>301042</td>\n",
       "      <td>5</td>\n",
       "      <td>0</td>\n",
       "      <td>0</td>\n",
       "      <td>0</td>\n",
       "      <td>0</td>\n",
       "      <td>0</td>\n",
       "      <td>0</td>\n",
       "      <td>0</td>\n",
       "      <td>0</td>\n",
       "      <td>...</td>\n",
       "      <td>0</td>\n",
       "      <td>0</td>\n",
       "      <td>0</td>\n",
       "      <td>0</td>\n",
       "      <td>0</td>\n",
       "      <td>0</td>\n",
       "      <td>0</td>\n",
       "      <td>0</td>\n",
       "      <td>0</td>\n",
       "      <td>42</td>\n",
       "    </tr>\n",
       "    <tr>\n",
       "      <th>974973</th>\n",
       "      <td>265353</td>\n",
       "      <td>2</td>\n",
       "      <td>0</td>\n",
       "      <td>0</td>\n",
       "      <td>0</td>\n",
       "      <td>0</td>\n",
       "      <td>0</td>\n",
       "      <td>0</td>\n",
       "      <td>0</td>\n",
       "      <td>0</td>\n",
       "      <td>...</td>\n",
       "      <td>0</td>\n",
       "      <td>0</td>\n",
       "      <td>0</td>\n",
       "      <td>0</td>\n",
       "      <td>0</td>\n",
       "      <td>0</td>\n",
       "      <td>0</td>\n",
       "      <td>1</td>\n",
       "      <td>0</td>\n",
       "      <td>50</td>\n",
       "    </tr>\n",
       "  </tbody>\n",
       "</table>\n",
       "<p>10 rows × 51 columns</p>\n",
       "</div>"
      ],
      "text/plain": [
       "         people_id  activity_category  char_1_x  char_2_x  char_3_x  char_4_x  \\\n",
       "908953       25410                  3         0         0         0         0   \n",
       "353566      155317                  5         0         0         0         0   \n",
       "266540      139847                  1         7         1         4         1   \n",
       "1393739     330527                  2         0         0         0         0   \n",
       "1033662     275084                  4         0         0         0         0   \n",
       "984127      266596                  5         0         0         0         0   \n",
       "1788668     389974                  4         0         0         0         0   \n",
       "493258      181073                  3         0         0         0         0   \n",
       "1232777     301042                  5         0         0         0         0   \n",
       "974973      265353                  2         0         0         0         0   \n",
       "\n",
       "         char_5_x  char_6_x  char_7_x  char_8_x   ...     char_29  char_30  \\\n",
       "908953          0         0         0         0   ...           0        0   \n",
       "353566          0         0         0         0   ...           1        1   \n",
       "266540          6         2         2         8   ...           0        0   \n",
       "1393739         0         0         0         0   ...           0        0   \n",
       "1033662         0         0         0         0   ...           0        0   \n",
       "984127          0         0         0         0   ...           0        0   \n",
       "1788668         0         0         0         0   ...           0        0   \n",
       "493258          0         0         0         0   ...           0        1   \n",
       "1232777         0         0         0         0   ...           0        0   \n",
       "974973          0         0         0         0   ...           0        0   \n",
       "\n",
       "         char_31  char_32  char_33  char_34  char_35  char_36  char_37  \\\n",
       "908953         0        0        0        0        0        0        0   \n",
       "353566         1        1        1        1        1        1        1   \n",
       "266540         0        0        0        0        0        0        0   \n",
       "1393739        0        0        0        0        0        0        0   \n",
       "1033662        0        0        0        0        0        1        0   \n",
       "984127         0        0        0        0        0        0        0   \n",
       "1788668        0        0        0        0        0        1        0   \n",
       "493258         1        0        1        1        1        1        1   \n",
       "1232777        0        0        0        0        0        0        0   \n",
       "974973         0        0        0        0        0        1        0   \n",
       "\n",
       "         char_38  \n",
       "908953        81  \n",
       "353566        18  \n",
       "266540         0  \n",
       "1393739        0  \n",
       "1033662       69  \n",
       "984127        62  \n",
       "1788668        7  \n",
       "493258        64  \n",
       "1232777       42  \n",
       "974973        50  \n",
       "\n",
       "[10 rows x 51 columns]"
      ]
     },
     "execution_count": 4,
     "metadata": {},
     "output_type": "execute_result"
    }
   ],
   "source": [
    "# Merege into a unified table\n",
    "\n",
    "# Training \n",
    "features = actions_train.merge(peeps, how='left', on='people_id')\n",
    "labels = act_train['outcome']\n",
    "\n",
    "# Testing\n",
    "test = actions_test.merge(peeps, how='left', on='people_id')\n",
    "\n",
    "# Check it out...\n",
    "features.sample(10)"
   ]
  },
  {
   "cell_type": "code",
   "execution_count": 21,
   "metadata": {
    "collapsed": false
   },
   "outputs": [
    {
     "data": {
      "text/plain": [
       "XGBClassifier(base_score=0.5, colsample_bylevel=1, colsample_bytree=1,\n",
       "       gamma=0, learning_rate=0.2, max_delta_step=0, max_depth=7,\n",
       "       min_child_weight=3, missing=None, n_estimators=200, nthread=-1,\n",
       "       objective='binary:logistic', reg_alpha=0, reg_lambda=1,\n",
       "       scale_pos_weight=1, seed=0, silent=True, subsample=1)"
      ]
     },
     "execution_count": 21,
     "metadata": {},
     "output_type": "execute_result"
    }
   ],
   "source": [
    "## Split Training Data\n",
    "from sklearn.cross_validation import train_test_split\n",
    "\n",
    "num_test = 0.20\n",
    "X_train, X_test, y_train, y_test = train_test_split(features, labels, test_size=num_test, random_state=23)\n",
    "\n",
    "## Out of box random forest\n",
    "from sklearn.ensemble import RandomForestClassifier\n",
    "from sklearn.metrics import accuracy_score, roc_auc_score\n",
    "from sklearn.grid_search import GridSearchCV\n",
    "\n",
    "#clf = RandomForestClassifier(n_estimators = 200, max_features = \"log2\", min_samples_leaf = 3, n_jobs = 4)\n",
    "clf.fit(X_train, y_train)"
   ]
  },
  {
   "cell_type": "code",
   "execution_count": 22,
   "metadata": {
    "collapsed": false
   },
   "outputs": [
    {
     "name": "stdout",
     "output_type": "stream",
     "text": [
      "Area under ROC 0.9867944956439343\n"
     ]
    }
   ],
   "source": [
    "## Training Predictions\n",
    "proba = clf.predict_proba(X_test)\n",
    "preds = proba[:,1]\n",
    "score = roc_auc_score(y_test, preds)\n",
    "print(\"Area under ROC {0}\".format(score))"
   ]
  },
  {
   "cell_type": "code",
   "execution_count": 7,
   "metadata": {
    "collapsed": true
   },
   "outputs": [],
   "source": [
    "from sklearn.externals import joblib\n",
    "joblib.dump(clf, 'RandomForest.pkl') "
   ]
  },
  {
   "cell_type": "code",
   "execution_count": 8,
   "metadata": {
    "collapsed": false
   },
   "outputs": [],
   "source": [
    "clf = joblib.load('RandomForest.pkl') "
   ]
  },
  {
   "cell_type": "code",
   "execution_count": 25,
   "metadata": {
    "collapsed": false
   },
   "outputs": [],
   "source": [
    "# Test Set Predictions\n",
    "test_proba = clf.predict_proba(test)\n",
    "test_preds = test_proba[:,1]\n",
    "\n",
    "# Format for submission\n",
    "output = pd.DataFrame({ 'activity_id' : test_ids, 'outcome': test_preds })\n",
    "output.head()\n",
    "output.to_csv('XGB_test.csv', index = False)"
   ]
  },
  {
   "cell_type": "code",
   "execution_count": 26,
   "metadata": {
    "collapsed": true
   },
   "outputs": [],
   "source": [
    "# Test Set Predictions\n",
    "test_proba = clf.predict_proba(features)\n",
    "test_preds = test_proba[:,1]\n",
    "\n",
    "# Format for submission\n",
    "output = pd.DataFrame({ 'activity_id' : train_ids, 'outcome': test_preds })\n",
    "output.head()\n",
    "output.to_csv('XGB_train.csv', index = False)"
   ]
  },
  {
   "cell_type": "code",
   "execution_count": null,
   "metadata": {
    "collapsed": true
   },
   "outputs": [],
   "source": []
  },
  {
   "cell_type": "code",
   "execution_count": 23,
   "metadata": {
    "collapsed": true
   },
   "outputs": [],
   "source": [
    "import xgboost as xgb"
   ]
  },
  {
   "cell_type": "code",
   "execution_count": 19,
   "metadata": {
    "collapsed": true
   },
   "outputs": [],
   "source": [
    "estimator = xgb.XGBClassifier(learning_rate=0.2, max_depth=7, n_estimators=200, min_child_weight=3)"
   ]
  },
  {
   "cell_type": "code",
   "execution_count": 23,
   "metadata": {
    "collapsed": false
   },
   "outputs": [
    {
     "data": {
      "text/plain": [
       "XGBClassifier(base_score=0.5, colsample_bylevel=1, colsample_bytree=1,\n",
       "       gamma=0, learning_rate=0.2, max_delta_step=0, max_depth=7,\n",
       "       min_child_weight=3, missing=None, n_estimators=200, nthread=-1,\n",
       "       objective='binary:logistic', reg_alpha=0, reg_lambda=1,\n",
       "       scale_pos_weight=1, seed=0, silent=True, subsample=1)"
      ]
     },
     "execution_count": 23,
     "metadata": {},
     "output_type": "execute_result"
    }
   ],
   "source": [
    "estimator.fit(features, labels)"
   ]
  },
  {
   "cell_type": "code",
   "execution_count": 24,
   "metadata": {
    "collapsed": true
   },
   "outputs": [],
   "source": [
    "clf = estimator"
   ]
  },
  {
   "cell_type": "code",
   "execution_count": null,
   "metadata": {
    "collapsed": true
   },
   "outputs": [],
   "source": []
  },
  {
   "cell_type": "code",
   "execution_count": null,
   "metadata": {
    "collapsed": true
   },
   "outputs": [],
   "source": []
  },
  {
   "cell_type": "code",
   "execution_count": 47,
   "metadata": {
    "collapsed": true
   },
   "outputs": [],
   "source": [
    "from datetime import datetime"
   ]
  },
  {
   "cell_type": "code",
   "execution_count": 3,
   "metadata": {
    "collapsed": true
   },
   "outputs": [],
   "source": [
    "test_ids = act_test['activity_id']\n",
    "train_ids = act_train[\"activity_id\"]"
   ]
  },
  {
   "cell_type": "code",
   "execution_count": 43,
   "metadata": {
    "collapsed": false
   },
   "outputs": [],
   "source": [
    "features = act_train.merge(people, how='left', on='people_id')[[\"date_x\", \"date_y\"]]\n",
    "test = act_test.merge(people, how='left', on='people_id')[[\"date_x\", \"date_y\"]]\n",
    "labels = act_train['outcome']"
   ]
  },
  {
   "cell_type": "code",
   "execution_count": 45,
   "metadata": {
    "collapsed": false
   },
   "outputs": [
    {
     "data": {
      "text/html": [
       "<div>\n",
       "<table border=\"1\" class=\"dataframe\">\n",
       "  <thead>\n",
       "    <tr style=\"text-align: right;\">\n",
       "      <th></th>\n",
       "      <th>date_x</th>\n",
       "      <th>date_y</th>\n",
       "    </tr>\n",
       "  </thead>\n",
       "  <tbody>\n",
       "    <tr>\n",
       "      <th>379570</th>\n",
       "      <td>2022-09-30</td>\n",
       "      <td>2022-01-22</td>\n",
       "    </tr>\n",
       "  </tbody>\n",
       "</table>\n",
       "</div>"
      ],
      "text/plain": [
       "            date_x      date_y\n",
       "379570  2022-09-30  2022-01-22"
      ]
     },
     "execution_count": 45,
     "metadata": {},
     "output_type": "execute_result"
    }
   ],
   "source": [
    "test.sample()"
   ]
  },
  {
   "cell_type": "code",
   "execution_count": 48,
   "metadata": {
    "collapsed": false
   },
   "outputs": [
    {
     "name": "stderr",
     "output_type": "stream",
     "text": [
      "Exception ignored in: <bound method DMatrix.__del__ of <xgboost.core.DMatrix object at 0x0000009B17296BA8>>\n",
      "Traceback (most recent call last):\n",
      "  File \"C:\\Users\\Егор\\Anaconda3\\lib\\site-packages\\xgboost\\core.py\", line 324, in __del__\n",
      "    _check_call(_LIB.XGDMatrixFree(self.handle))\n",
      "AttributeError: 'DMatrix' object has no attribute 'handle'\n"
     ]
    }
   ],
   "source": [
    "# convert field 'data' into data type\n",
    "features['date_x'] = features['date_x'].apply(lambda x: datetime.strptime(x, '%Y-%m-%d') )\n",
    "features['date_y'] = features['date_y'].apply(lambda x: datetime.strptime(x, '%Y-%m-%d') )\n",
    "\n",
    "test['date_x'] = test['date_x'].apply(lambda x: datetime.strptime(x, '%Y-%m-%d') )\n",
    "test['date_y'] = test['date_y'].apply(lambda x: datetime.strptime(x, '%Y-%m-%d') )"
   ]
  },
  {
   "cell_type": "code",
   "execution_count": 49,
   "metadata": {
    "collapsed": true
   },
   "outputs": [],
   "source": [
    "# add a couple of new 'date' fields\n",
    "features['date_year_x'] = features['date_x'].apply(lambda x: x.year)\n",
    "features['date_month_x'] = features['date_x'].apply(lambda x: x.month)\n",
    "features['date_day_x'] = features['date_x'].apply(lambda x: x.day)\n",
    "features['date_weekday_x'] = features['date_x'].apply(lambda x: x.weekday())\n",
    "features['date_year_y'] = features['date_y'].apply(lambda x: x.year)\n",
    "features['date_month_y'] = features['date_y'].apply(lambda x: x.month)\n",
    "features['date_day_y'] = features['date_y'].apply(lambda x: x.day)\n",
    "features['date_weekday_y'] = features['date_y'].apply(lambda x: x.weekday())\n",
    "\n",
    "test['date_year_x'] = test['date_x'].apply(lambda x: x.year)\n",
    "test['date_month_x'] = test['date_x'].apply(lambda x: x.month)\n",
    "test['date_day_x'] = test['date_x'].apply(lambda x: x.day)\n",
    "test['date_weekday_x'] = test['date_x'].apply(lambda x: x.weekday())\n",
    "test['date_year_y'] = test['date_y'].apply(lambda x: x.year)\n",
    "test['date_month_y'] = test['date_y'].apply(lambda x: x.month)\n",
    "test['date_day_y'] = test['date_y'].apply(lambda x: x.day)\n",
    "test['date_weekday_y'] = test['date_y'].apply(lambda x: x.weekday())\n"
   ]
  },
  {
   "cell_type": "code",
   "execution_count": 50,
   "metadata": {
    "collapsed": false
   },
   "outputs": [],
   "source": [
    "features = features.drop([\"date_x\", \"date_y\"], axis = 1)\n",
    "test = test.drop([\"date_x\", \"date_y\"], axis = 1)"
   ]
  },
  {
   "cell_type": "code",
   "execution_count": 27,
   "metadata": {
    "collapsed": false
   },
   "outputs": [
    {
     "name": "stdout",
     "output_type": "stream",
     "text": [
      "Populating the interactive namespace from numpy and matplotlib\n"
     ]
    }
   ],
   "source": [
    "from sklearn.cross_validation import cross_val_score\n",
    "%pylab inline"
   ]
  },
  {
   "cell_type": "code",
   "execution_count": 28,
   "metadata": {
    "collapsed": false
   },
   "outputs": [
    {
     "data": {
      "text/plain": [
       "[<matplotlib.lines.Line2D at 0x9b26f50048>]"
      ]
     },
     "execution_count": 28,
     "metadata": {},
     "output_type": "execute_result"
    },
    {
     "data": {
      "image/png": "[encoded data removed]",
      "text/plain": [
       "<matplotlib.figure.Figure at 0x9b0566b240>"
      ]
     },
     "metadata": {},
     "output_type": "display_data"
    }
   ],
   "source": [
    "t = np.arange(1,20,1)\n",
    "scores = []\n",
    "for i in t:\n",
    "    estimator = xgb.XGBClassifier(learning_rate=0.2, max_depth=i, n_estimators=10, min_child_weight=3)\n",
    "    scores.append(np.mean(cross_val_score(estimator, features, labels, scoring = 'roc_auc', cv = 5)))\n",
    "pylab.plot(t,scores)"
   ]
  },
  {
   "cell_type": "code",
   "execution_count": 32,
   "metadata": {
    "collapsed": false
   },
   "outputs": [
    {
     "data": {
      "text/plain": [
       "[<matplotlib.lines.Line2D at 0x9b172820f0>]"
      ]
     },
     "execution_count": 32,
     "metadata": {},
     "output_type": "execute_result"
    },
    {
     "data": {
      "image/png": "[encoded data removed]",
      "text/plain": [
       "<matplotlib.figure.Figure at 0x9b07252080>"
      ]
     },
     "metadata": {},
     "output_type": "display_data"
    }
   ],
   "source": [
    "t = np.arange(0.5,0.7,0.01)\n",
    "scores = []\n",
    "for i in t:\n",
    "    estimator = xgb.XGBClassifier(learning_rate=i, max_depth=12, n_estimators=10, min_child_weight=3)\n",
    "    scores.append(np.mean(cross_val_score(estimator, features, labels, scoring = 'roc_auc', cv = 5)))\n",
    "pylab.plot(t,scores)"
   ]
  },
  {
   "cell_type": "code",
   "execution_count": 33,
   "metadata": {
    "collapsed": false
   },
   "outputs": [
    {
     "data": {
      "text/plain": [
       "[<matplotlib.lines.Line2D at 0x9b348c3518>]"
      ]
     },
     "execution_count": 33,
     "metadata": {},
     "output_type": "execute_result"
    },
    {
     "data": {
      "image/png": "[encoded data removed]",
      "text/plain": [
       "<matplotlib.figure.Figure at 0x9b1729c358>"
      ]
     },
     "metadata": {},
     "output_type": "display_data"
    }
   ],
   "source": [
    "t = np.arange(10,200,10)\n",
    "scores = []\n",
    "for i in t:\n",
    "    estimator = xgb.XGBClassifier(learning_rate=0.55, max_depth=5, n_estimators=i, min_child_weight=3)\n",
    "    scores.append(np.mean(cross_val_score(estimator, features, labels, scoring = 'roc_auc', cv = 5)))\n",
    "pylab.plot(t,scores)"
   ]
  },
  {
   "cell_type": "code",
   "execution_count": 35,
   "metadata": {
    "collapsed": false
   },
   "outputs": [
    {
     "data": {
      "text/plain": [
       "90"
      ]
     },
     "execution_count": 35,
     "metadata": {},
     "output_type": "execute_result"
    }
   ],
   "source": [
    "t[np.argmax(np.array(scores))]"
   ]
  },
  {
   "cell_type": "code",
   "execution_count": 36,
   "metadata": {
    "collapsed": false
   },
   "outputs": [
    {
     "data": {
      "text/plain": [
       "XGBClassifier(base_score=0.5, colsample_bylevel=1, colsample_bytree=1,\n",
       "       gamma=0, learning_rate=0.55, max_delta_step=0, max_depth=5,\n",
       "       min_child_weight=3, missing=None, n_estimators=90, nthread=-1,\n",
       "       objective='binary:logistic', reg_alpha=0, reg_lambda=1,\n",
       "       scale_pos_weight=1, seed=0, silent=True, subsample=1)"
      ]
     },
     "execution_count": 36,
     "metadata": {},
     "output_type": "execute_result"
    }
   ],
   "source": [
    "estimator = xgb.XGBClassifier(learning_rate=0.55, max_depth=5, n_estimators=90, min_child_weight=3)\n",
    "estimator.fit(features, labels)"
   ]
  },
  {
   "cell_type": "code",
   "execution_count": 51,
   "metadata": {
    "collapsed": false
   },
   "outputs": [],
   "source": [
    "test_proba = estimator.predict_proba(test)\n",
    "test_preds = test_proba[:,1]\n",
    "\n",
    "# Format for submission\n",
    "output = pd.DataFrame({ 'activity_id' : test_ids, 'outcome': test_preds })\n",
    "output.head()\n",
    "output.to_csv('data_test.csv', index = False)"
   ]
  },
  {
   "cell_type": "code",
   "execution_count": null,
   "metadata": {
    "collapsed": true
   },
   "outputs": [],
   "source": []
  }
 ],
 "metadata": {
  "anaconda-cloud": {},
  "kernelspec": {
   "display_name": "Python [Root]",
   "language": "python",
   "name": "Python [Root]"
  },
  "language_info": {
   "codemirror_mode": {
    "name": "ipython",
    "version": 3
   },
   "file_extension": ".py",
   "mimetype": "text/x-python",
   "name": "python",
   "nbconvert_exporter": "python",
   "pygments_lexer": "ipython3",
   "version": "3.5.2"
  }
 },
 "nbformat": 4,
 "nbformat_minor": 0
}
